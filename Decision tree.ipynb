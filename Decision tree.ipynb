{
 "cells": [
  {
   "attachments": {
    "image.png": {
     "image/png": "[encoded data removed]"
    }
   },
   "cell_type": "markdown",
   "metadata": {},
   "source": [
    "### Степень принадлежности узла к классу оценивается с помощью эвристик: ![image.png](attachment:image.png)"
   ]
  },
  {
   "cell_type": "markdown",
   "metadata": {},
   "source": [
    "### S - энтропия Шеннона, G - коэффициент Джини"
   ]
  },
  {
   "attachments": {
    "image.png": {
     "image/png": "[encoded data removed]"
    }
   },
   "cell_type": "markdown",
   "metadata": {},
   "source": [
    "## Коэффициент усиления информации при разделении (для энтропии)![image.png](attachment:image.png)"
   ]
  },
  {
   "cell_type": "markdown",
   "metadata": {},
   "source": [
    "#### Ni - количество элементов в разделении, N - общая сумма элементов, Si - энтропия разделения (правой или левой части), S0 - энтропия до разделения"
   ]
  },
  {
   "cell_type": "code",
   "execution_count": 70,
   "metadata": {},
   "outputs": [],
   "source": [
    "import numpy as np\n",
    "import matplotlib.pyplot as plt\n",
    "from sklearn.datasets import make_blobs, make_moons"
   ]
  },
  {
   "cell_type": "code",
   "execution_count": 71,
   "metadata": {},
   "outputs": [],
   "source": [
    "class DecisionTree:\n",
    "    \n",
    "    def __init__(self, max_depth, min_size):\n",
    "        self.max_depth = max_depth\n",
    "        self.min_size = min_size\n",
    "    \n",
    "    #вычисление индекса Джини\n",
    "    def _gini_index(self,groups):\n",
    "        groups = np.array(groups)\n",
    "        #все имеющие классы в разделении\n",
    "        #в последней колонке значение класса\n",
    "        classes = np.unique(np.hstack([np.array(group)[:,-1] for group in groups if len(group) != 0 ]))   \n",
    "        # посчитать общее количество элементов в разделенных группах \n",
    "        N = sum([len(group) for group in groups])\n",
    "        # суммируем веса индексов Джини каждой группы, чтобы найти коэффициент усиления информации, на основе имеющегося разделения\n",
    "        gini = 0.0\n",
    "        for group in groups:\n",
    "            Ni = len(group)\n",
    "            # избежание деления на 0\n",
    "            if Ni == 0:\n",
    "                continue\n",
    "            score = 0.0\n",
    "            # рассчёт коэффициента Джини для группы\n",
    "            for class_val in classes:\n",
    "                p = list(group[:,-1]).count(class_val)/Ni\n",
    "                score += p * p\n",
    "            # общий коэффициент с учетом относительного размера групп\n",
    "            gini += (1.0 - score) * (Ni/N)\n",
    "        return gini    \n",
    "    \n",
    "    \n",
    "    # разделение выборки по условию меньше значения переданного атрибута value (value будет перебираться\n",
    "    # и тестироваться на эвристиках, по итогу будет выбран атрибут, дающий лучшие эвристики по разделению)\n",
    "    #сравнение идет по какому-то конретному параметру элементов, который так же задается вместе с value, и также будет перебираться\n",
    "    def _simple_split(self, feature_number, value, dataset):\n",
    "        # feature_number фича (номер одной из характеристик/параметра/координаты вектора (называй как хочешь)\n",
    "        #по которым задаются элементы датасета)\n",
    "        #будем сравнивать по одной из фич\n",
    "        left, right = list(), list()\n",
    "        for element in dataset:\n",
    "            if element[feature_number] < value:\n",
    "                left.append(element)\n",
    "            else:\n",
    "                right.append(element)\n",
    "        return np.array(left), np.array(right)\n",
    "    \n",
    "    # Находим лучшее разделение\n",
    "    def _get_split(self, dataset):\n",
    "        b_feature_n, b_value, b_score, b_groups = 999, 999, 999, None\n",
    "        #вот тут и начинается перебор\n",
    "        #перебераем все элементы датасета по фичам и смотрим разделение по какому будет самым лучшим\n",
    "        for feature_num in range(len(dataset[0])-1):\n",
    "            for element in dataset:\n",
    "                groups = self._simple_split(feature_num, element[feature_num], dataset)                              \n",
    "                h_metric = self._gini_index(groups)  \n",
    "                if h_metric < b_score:\n",
    "                    b_feature_n, b_value, b_score, b_groups = feature_num, element[feature_num], h_metric, groups\n",
    "        return  {'feature_number':b_feature_n, 'value':b_value, 'groups':b_groups}\n",
    "    \n",
    "    # конечное значение узла\n",
    "    def _assign_predict(self, group):\n",
    "        outcomes = np.array(group)[:,-1]\n",
    "        return max(set(outcomes), key=list(outcomes).count)\n",
    "    \n",
    "    # делим узлы дерева до стоп-фактора и назначаем метку класса конечным узлам\n",
    "    def _split(self, node, max_depth, min_size, depth = 1):\n",
    "        left, right = node['groups']\n",
    "        del(node['groups'])\n",
    "        # проверка отсутсвия разделений\n",
    "        if not list(left) or not list(right):\n",
    "            node['left'] = node['right'] = self._assign_predict(list(left)+list(right))\n",
    "            return\n",
    "        # проверка глубины дерева\n",
    "        if depth >= max_depth:\n",
    "            node['left'], node['right'] = self._assign_predict(left), self._assign_predict(right)\n",
    "            return\n",
    "        # делим левый узел или назначаем класс\n",
    "        if len(left) <= min_size:\n",
    "            node['left'] = self._assign_predict(left)\n",
    "        else:\n",
    "            node['left'] = self._get_split(left)\n",
    "            self._split(node['left'], max_depth, min_size, depth+1)\n",
    "        # делим правый узел или назначаем класс\n",
    "        if len(right) <= min_size:\n",
    "            node['right'] = self._assign_predict(right)\n",
    "        else:\n",
    "            node['right'] = self._get_split(right)\n",
    "            self._split(node['right'], max_depth, min_size, depth+1)\n",
    "    \n",
    "    # Build up the tree\n",
    "    def fit(self, train_data):\n",
    "        root = self._get_split(train_data)\n",
    "        self._split(root, self.max_depth, self.min_size)\n",
    "        self._root = root\n",
    "    \n",
    "        \n",
    "    def _predict_element(self, node, element):\n",
    "        if element[node['feature_number']] < node['value']:\n",
    "            if isinstance(node['left'], dict):\n",
    "                return self._predict_element(node['left'], element.copy())\n",
    "            else:\n",
    "                return node['left']\n",
    "        else:\n",
    "            if isinstance(node['right'], dict):\n",
    "                return self._predict_element(node['right'], element.copy())\n",
    "            else:\n",
    "                return node['right']    \n",
    "    \n",
    "    def predict(self, test_data):\n",
    "        predictions = []\n",
    "        for element in test_data:\n",
    "            predictions.append(self._predict_element(self._root, element))\n",
    "        return predictions\n",
    "    "
   ]
  },
  {
   "cell_type": "code",
   "execution_count": 72,
   "metadata": {},
   "outputs": [],
   "source": [
    "x, y = make_moons(n_samples=100, noise=0.1)"
   ]
  },
  {
   "cell_type": "code",
   "execution_count": 76,
   "metadata": {},
   "outputs": [],
   "source": [
    "tree = DecisionTree(5,1)"
   ]
  },
  {
   "cell_type": "code",
   "execution_count": 77,
   "metadata": {},
   "outputs": [],
   "source": [
    "tree.fit(np.hstack((x,y.reshape(-1,1))))"
   ]
  },
  {
   "cell_type": "code",
   "execution_count": 78,
   "metadata": {},
   "outputs": [
    {
     "data": {
      "image/png": "[encoded data removed]",
      "text/plain": [
       "<Figure size 432x288 with 1 Axes>"
      ]
     },
     "metadata": {
      "needs_background": "light"
     },
     "output_type": "display_data"
    }
   ],
   "source": [
    "h = .02\n",
    "x0_min, x0_max = np.min(x[:,0]) - 1, np.max(x[:,0]) + 1\n",
    "x1_min, x1_max = np.min(x[:,1]) - 1, np.max(x[:,1]) + 1\n",
    "xx0, xx1 = np.meshgrid(np.arange(x0_min, x0_max, h),\n",
    "                         np.arange(x1_min, x1_max, h))\n",
    "\n",
    "Z = tree.predict(np.stack((xx0.ravel(),xx1.ravel())).T)\n",
    "\n",
    "Z = np.array(Z).reshape(xx0.shape)\n",
    "cm = plt.cm.RdBu\n",
    "plt.contourf(xx0, xx1, Z, cmap=cm, alpha=.8)\n",
    "plt.scatter(x[:,0], x[:,1], c = y)\n",
    "plt.show()"
   ]
  },
  {
   "cell_type": "code",
   "execution_count": null,
   "metadata": {},
   "outputs": [],
   "source": []
  }
 ],
 "metadata": {
  "kernelspec": {
   "display_name": "Python 3",
   "language": "python",
   "name": "python3"
  },
  "language_info": {
   "codemirror_mode": {
    "name": "ipython",
    "version": 3
   },
   "file_extension": ".py",
   "mimetype": "text/x-python",
   "name": "python",
   "nbconvert_exporter": "python",
   "pygments_lexer": "ipython3",
   "version": "3.6.4"
  }
 },
 "nbformat": 4,
 "nbformat_minor": 2
}
